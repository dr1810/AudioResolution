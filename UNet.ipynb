{
 "cells": [
  {
   "cell_type": "code",
   "execution_count": 76,
   "id": "f99ac9bb",
   "metadata": {},
   "outputs": [],
   "source": [
    "import torch\n",
    "import torch.nn as nn\n",
    "import torch.optim as optim\n",
    "import torchaudio\n",
    "from torch.nn.utils.rnn import pack_padded_sequence, pad_packed_sequence\n",
    "from torch.utils.data import Dataset, DataLoader\n",
    "import os"
   ]
  },
  {
   "cell_type": "code",
   "execution_count": 77,
   "id": "27c8272f",
   "metadata": {},
   "outputs": [],
   "source": [
    "def collate_fn(batch):\n",
    "    waveforms, sample_rates = zip(*batch)\n",
    "    lengths = [waveform.size(1) for waveform in waveforms]\n",
    "    max_length = max(lengths)\n",
    "\n",
    "    padded_waveforms = [torch.nn.functional.pad(waveform, (0, max_length - waveform.size(1))) for waveform in waveforms]\n",
    "\n",
    "    return torch.stack(padded_waveforms), sample_rates, lengths"
   ]
  },
  {
   "cell_type": "code",
   "execution_count": 79,
   "id": "23045de6",
   "metadata": {},
   "outputs": [],
   "source": [
    "class AudioDataset(Dataset):\n",
    "    def __init__(self, data_folder):\n",
    "        self.data_folder = data_folder\n",
    "        self.file_list = os.listdir(data_folder)\n",
    "\n",
    "    def __len__(self):\n",
    "        return len(self.file_list)\n",
    "\n",
    "    def __getitem__(self, idx):\n",
    "        file_path = os.path.join(self.data_folder, self.file_list[idx])\n",
    "        waveform, sample_rate = torchaudio.load(file_path)\n",
    "        return waveform, sample_rate"
   ]
  },
  {
   "cell_type": "code",
   "execution_count": 90,
   "id": "592ca5ef",
   "metadata": {},
   "outputs": [],
   "source": [
    "class UNet(nn.Module):\n",
    "    def __init__(self, in_channels, out_channels):\n",
    "        super(UNet, self).__init__()\n",
    "        self.encoder = nn.Sequential(\n",
    "            nn.Conv1d(in_channels, 64, kernel_size=3, stride=2, padding=1),\n",
    "            nn.ReLU(inplace=True),\n",
    "            nn.Conv1d(64, 128, kernel_size=3, stride=2, padding=1),\n",
    "            nn.ReLU(inplace=True),\n",
    "            nn.Conv1d(128, 256, kernel_size=3, stride=2, padding=1),\n",
    "            nn.ReLU(inplace=True),\n",
    "        )\n",
    "        self.bottleneck = nn.Sequential(\n",
    "            nn.Conv1d(256, 512, kernel_size=3, stride=2, padding=1),\n",
    "            nn.ReLU(inplace=True),\n",
    "            nn.ConvTranspose1d(512, 256, kernel_size=3, stride=1, padding=1),  # Adjusted\n",
    "            nn.ReLU(inplace=True),\n",
    "        )\n",
    "\n",
    "        self.decoder = nn.Sequential(\n",
    "            nn.ConvTranspose1d(256, 128, kernel_size=3, stride=1, padding=1),  # Adjusted\n",
    "            nn.ReLU(inplace=True),\n",
    "            nn.ConvTranspose1d(128, 64, kernel_size=3, stride=1, padding=1),  # Adjusted\n",
    "            nn.ReLU(inplace=True),\n",
    "            nn.ConvTranspose1d(64, out_channels, kernel_size=3, stride=1, padding=1, output_padding=0),  # Adjusted\n",
    "            nn.Tanh()  \n",
    "        )\n",
    "\n",
    "    def forward(self, x, lengths):\n",
    "        x1 = self.encoder(x)\n",
    "        x2 = self.bottleneck(x1)\n",
    "        lengths = [length // 2 for length in lengths]\n",
    "\n",
    "        x3 = self.decoder(x2)\n",
    "        return x3\n",
    "\n"
   ]
  },
  {
   "cell_type": "code",
   "execution_count": 91,
   "id": "e4839c78",
   "metadata": {},
   "outputs": [],
   "source": [
    "device = torch.device(\"cuda\" if torch.cuda.is_available() else \"cpu\")"
   ]
  },
  {
   "cell_type": "code",
   "execution_count": 92,
   "id": "8e90c2d2",
   "metadata": {},
   "outputs": [],
   "source": [
    "input_channels = 1  \n",
    "output_channels = 1  \n",
    "hidden_channels = 64 "
   ]
  },
  {
   "cell_type": "code",
   "execution_count": 93,
   "id": "8d17cffb",
   "metadata": {},
   "outputs": [],
   "source": [
    "model = UNet(input_channels, output_channels).to(device)"
   ]
  },
  {
   "cell_type": "code",
   "execution_count": 94,
   "id": "5afa0034",
   "metadata": {},
   "outputs": [],
   "source": [
    "criterion = nn.MSELoss()\n",
    "optimizer = optim.Adam(model.parameters(), lr=0.001)"
   ]
  },
  {
   "cell_type": "code",
   "execution_count": 95,
   "id": "5666f7f1",
   "metadata": {},
   "outputs": [],
   "source": [
    "data_folder = r\"C:\\Users\\dharu\\OneDrive\\Desktop\\NUSProject\\classes\\airplane\"\n",
    "dataset = AudioDataset(data_folder)\n",
    "batch_size = 32\n",
    "dataloader = DataLoader(dataset, batch_size=batch_size, shuffle=True, num_workers=0, collate_fn=collate_fn)"
   ]
  },
  {
   "cell_type": "code",
   "execution_count": 98,
   "id": "eb8ddba1",
   "metadata": {},
   "outputs": [
    {
     "name": "stdout",
     "output_type": "stream",
     "text": [
      "Input dimensions: torch.Size([32, 1, 220500])\n",
      "Output dimensions: torch.Size([32, 1, 13782])\n",
      "Input dimensions: torch.Size([8, 1, 220500])\n",
      "Output dimensions: torch.Size([8, 1, 13782])\n",
      "Input dimensions: torch.Size([32, 1, 220500])\n",
      "Output dimensions: torch.Size([32, 1, 13782])\n",
      "Input dimensions: torch.Size([8, 1, 220500])\n",
      "Output dimensions: torch.Size([8, 1, 13782])\n",
      "Input dimensions: torch.Size([32, 1, 220500])\n",
      "Output dimensions: torch.Size([32, 1, 13782])\n",
      "Input dimensions: torch.Size([8, 1, 220500])\n",
      "Output dimensions: torch.Size([8, 1, 13782])\n",
      "Input dimensions: torch.Size([32, 1, 220500])\n",
      "Output dimensions: torch.Size([32, 1, 13782])\n",
      "Input dimensions: torch.Size([8, 1, 220500])\n",
      "Output dimensions: torch.Size([8, 1, 13782])\n",
      "Input dimensions: torch.Size([32, 1, 220500])\n",
      "Output dimensions: torch.Size([32, 1, 13782])\n",
      "Input dimensions: torch.Size([8, 1, 220500])\n",
      "Output dimensions: torch.Size([8, 1, 13782])\n",
      "Input dimensions: torch.Size([32, 1, 220500])\n",
      "Output dimensions: torch.Size([32, 1, 13782])\n",
      "Input dimensions: torch.Size([8, 1, 220500])\n",
      "Output dimensions: torch.Size([8, 1, 13782])\n",
      "Input dimensions: torch.Size([32, 1, 220500])\n",
      "Output dimensions: torch.Size([32, 1, 13782])\n",
      "Input dimensions: torch.Size([8, 1, 220500])\n",
      "Output dimensions: torch.Size([8, 1, 13782])\n",
      "Input dimensions: torch.Size([32, 1, 220500])\n",
      "Output dimensions: torch.Size([32, 1, 13782])\n",
      "Input dimensions: torch.Size([8, 1, 220500])\n",
      "Output dimensions: torch.Size([8, 1, 13782])\n",
      "Input dimensions: torch.Size([32, 1, 220500])\n",
      "Output dimensions: torch.Size([32, 1, 13782])\n",
      "Input dimensions: torch.Size([8, 1, 220500])\n",
      "Output dimensions: torch.Size([8, 1, 13782])\n",
      "Input dimensions: torch.Size([32, 1, 220500])\n",
      "Output dimensions: torch.Size([32, 1, 13782])\n",
      "Input dimensions: torch.Size([8, 1, 220500])\n",
      "Output dimensions: torch.Size([8, 1, 13782])\n"
     ]
    }
   ],
   "source": [
    "num_epochs = 10 \n",
    "\n",
    "for epoch in range(num_epochs):\n",
    "    for batch in dataloader:\n",
    "        input_data, sample_rates, lengths = batch\n",
    "        input_data = input_data.to(device)\n",
    "\n",
    "        print(f'Input dimensions: {input_data.size()}')\n",
    "\n",
    "        output = model(input_data, lengths)\n",
    "        print(f'Output dimensions: {output.size()}')\n",
    "        \n",
    "\n"
   ]
  },
  {
   "cell_type": "code",
   "execution_count": 97,
   "id": "2426d8b2",
   "metadata": {},
   "outputs": [
    {
     "data": {
      "text/plain": [
       "<bound method Module.eval of UNet(\n",
       "  (encoder): Sequential(\n",
       "    (0): Conv1d(1, 64, kernel_size=(3,), stride=(2,), padding=(1,))\n",
       "    (1): ReLU(inplace=True)\n",
       "    (2): Conv1d(64, 128, kernel_size=(3,), stride=(2,), padding=(1,))\n",
       "    (3): ReLU(inplace=True)\n",
       "    (4): Conv1d(128, 256, kernel_size=(3,), stride=(2,), padding=(1,))\n",
       "    (5): ReLU(inplace=True)\n",
       "  )\n",
       "  (bottleneck): Sequential(\n",
       "    (0): Conv1d(256, 512, kernel_size=(3,), stride=(2,), padding=(1,))\n",
       "    (1): ReLU(inplace=True)\n",
       "    (2): ConvTranspose1d(512, 256, kernel_size=(3,), stride=(1,), padding=(1,))\n",
       "    (3): ReLU(inplace=True)\n",
       "  )\n",
       "  (decoder): Sequential(\n",
       "    (0): ConvTranspose1d(256, 128, kernel_size=(3,), stride=(1,), padding=(1,))\n",
       "    (1): ReLU(inplace=True)\n",
       "    (2): ConvTranspose1d(128, 64, kernel_size=(3,), stride=(1,), padding=(1,))\n",
       "    (3): ReLU(inplace=True)\n",
       "    (4): ConvTranspose1d(64, 1, kernel_size=(3,), stride=(1,), padding=(1,))\n",
       "    (5): Tanh()\n",
       "  )\n",
       ")>"
      ]
     },
     "execution_count": 97,
     "metadata": {},
     "output_type": "execute_result"
    }
   ],
   "source": [
    "model.eval"
   ]
  },
  {
   "cell_type": "code",
   "execution_count": null,
   "id": "63cf8430",
   "metadata": {},
   "outputs": [],
   "source": []
  }
 ],
 "metadata": {
  "kernelspec": {
   "display_name": "Python 3 (ipykernel)",
   "language": "python",
   "name": "python3"
  },
  "language_info": {
   "codemirror_mode": {
    "name": "ipython",
    "version": 3
   },
   "file_extension": ".py",
   "mimetype": "text/x-python",
   "name": "python",
   "nbconvert_exporter": "python",
   "pygments_lexer": "ipython3",
   "version": "3.9.13"
  }
 },
 "nbformat": 4,
 "nbformat_minor": 5
}
