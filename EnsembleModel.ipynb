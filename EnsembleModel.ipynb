{
 "cells": [
  {
   "cell_type": "code",
   "execution_count": 1,
   "id": "39cb7156",
   "metadata": {},
   "outputs": [],
   "source": [
    "import torch\n",
    "import torch.nn as nn"
   ]
  },
  {
   "cell_type": "code",
   "execution_count": 2,
   "id": "8c956273",
   "metadata": {},
   "outputs": [],
   "source": [
    "def conv_block(in_channels, out_channels, kernel_size, stride, padding):\n",
    "    return nn.Sequential(\n",
    "        nn.Conv1d(in_channels, out_channels, kernel_size, stride, padding),\n",
    "        nn.BatchNorm1d(out_channels),\n",
    "        nn.ReLU()\n",
    "    )"
   ]
  },
  {
   "cell_type": "code",
   "execution_count": 3,
   "id": "550b2afb",
   "metadata": {},
   "outputs": [],
   "source": [
    "class WavGAN(nn.Module):\n",
    "    def __init__(self):\n",
    "        super(WavGAN, self).__init__()\n",
    "        self.conv1 = conv_block(1, 64, 3, 1, 1)\n",
    "        self.conv2 = conv_block(64, 128, 3, 1, 1)\n",
    "        self.upsample = nn.Upsample(scale_factor=2, mode='nearest')\n",
    "        self.conv3 = conv_block(128, 64, 3, 1, 1)\n",
    "        self.conv4 = nn.Conv1d(64, 1, 3, 1, 1)\n",
    "\n",
    "    def forward(self, x):\n",
    "        x = self.conv1(x)\n",
    "        x = self.conv2(x)\n",
    "        x = self.upsample(x)\n",
    "        x = self.conv3(x)\n",
    "        x = self.conv4(x)\n",
    "        return x"
   ]
  },
  {
   "cell_type": "code",
   "execution_count": 4,
   "id": "3693876a",
   "metadata": {},
   "outputs": [],
   "source": [
    "class MelGAN(nn.Module):\n",
    "    def __init__(self):\n",
    "        super(MelGAN, self).__init__()\n",
    "        self.conv1 = conv_block(1, 64, 3, 1, 1)\n",
    "        self.conv2 = conv_block(64, 128, 3, 1, 1)\n",
    "        self.upsample = nn.Upsample(scale_factor=2, mode='nearest')\n",
    "        self.conv3 = conv_block(128, 64, 3, 1, 1)\n",
    "        self.conv4 = nn.Conv1d(64, 1, 3, 1, 1)\n",
    "\n",
    "    def forward(self, x):\n",
    "        x = self.conv1(x)\n",
    "        x = self.conv2(x)\n",
    "        x = self.upsample(x)\n",
    "        x = self.conv3(x)\n",
    "        x = self.conv4(x)\n",
    "        return x\n"
   ]
  },
  {
   "cell_type": "code",
   "execution_count": 5,
   "id": "c7d22fa4",
   "metadata": {},
   "outputs": [],
   "source": [
    "class HiFiGAN(nn.Module):\n",
    "    def __init__(self):\n",
    "        super(HiFiGAN, self).__init__()\n",
    "        self.conv1 = conv_block(1, 64, 3, 1, 1)\n",
    "        self.conv2 = conv_block(64, 128, 3, 1, 1)\n",
    "        self.upsample = nn.Upsample(scale_factor=2, mode='nearest')\n",
    "        self.conv3 = conv_block(128, 64, 3, 1, 1)\n",
    "        self.conv4 = nn.Conv1d(64, 1, 3, 1, 1)\n",
    "\n",
    "    def forward(self, x):\n",
    "        x = self.conv1(x)\n",
    "        x = self.conv2(x)\n",
    "        x = self.upsample(x)\n",
    "        x = self.conv3(x)\n",
    "        x = self.conv4(x)\n",
    "        return x"
   ]
  },
  {
   "cell_type": "code",
   "execution_count": 6,
   "id": "ce9c70f5",
   "metadata": {},
   "outputs": [],
   "source": [
    "class AudioSuperResolutionModel(nn.Module):\n",
    "    def __init__(self):\n",
    "        super(AudioSuperResolutionModel, self).__init__()\n",
    "        self.wavgan = WavGAN()\n",
    "        self.melgan = MelGAN()\n",
    "        self.hifigan = HiFiGAN()\n",
    "    def forward(self, input_audio):\n",
    "        representation = input_audio\n",
    "        wavgan_output = self.wavgan(representation)\n",
    "        melgan_output = self.melgan(representation)\n",
    "        hifigan_output = self.hifigan(representation)\n",
    "        ensemble_output = (wavgan_output + melgan_output + hifigan_output) / 3\n",
    "        \n",
    "        return ensemble_output"
   ]
  },
  {
   "cell_type": "code",
   "execution_count": 7,
   "id": "1242e21c",
   "metadata": {},
   "outputs": [],
   "source": [
    "wavgan_model = WavGAN()\n",
    "melgan_model = MelGAN()\n",
    "hifigan_model = HiFiGAN()\n",
    "ensemble_model = AudioSuperResolutionModel()"
   ]
  },
  {
   "cell_type": "code",
   "execution_count": 9,
   "id": "296323cd",
   "metadata": {},
   "outputs": [],
   "source": [
    "def summary(model, input_size):\n",
    "    print(\"Model Summary:\")\n",
    "    print(\"=\" * 50)\n",
    "    print(model)\n",
    "    print(\"=\" * 50)\n",
    "    total_params = 0\n",
    "    for param in model.parameters():\n",
    "        total_params += param.numel()\n",
    "    print(f\"Total parameters: {total_params}\")\n",
    "    print(\"=\" * 50)"
   ]
  },
  {
   "cell_type": "code",
   "execution_count": 10,
   "id": "7b8e0453",
   "metadata": {},
   "outputs": [
    {
     "name": "stdout",
     "output_type": "stream",
     "text": [
      "Model Summary:\n",
      "==================================================\n",
      "AudioSuperResolutionModel(\n",
      "  (wavgan): WavGAN(\n",
      "    (conv1): Sequential(\n",
      "      (0): Conv1d(1, 64, kernel_size=(3,), stride=(1,), padding=(1,))\n",
      "      (1): BatchNorm1d(64, eps=1e-05, momentum=0.1, affine=True, track_running_stats=True)\n",
      "      (2): ReLU()\n",
      "    )\n",
      "    (conv2): Sequential(\n",
      "      (0): Conv1d(64, 128, kernel_size=(3,), stride=(1,), padding=(1,))\n",
      "      (1): BatchNorm1d(128, eps=1e-05, momentum=0.1, affine=True, track_running_stats=True)\n",
      "      (2): ReLU()\n",
      "    )\n",
      "    (upsample): Upsample(scale_factor=2.0, mode='nearest')\n",
      "    (conv3): Sequential(\n",
      "      (0): Conv1d(128, 64, kernel_size=(3,), stride=(1,), padding=(1,))\n",
      "      (1): BatchNorm1d(64, eps=1e-05, momentum=0.1, affine=True, track_running_stats=True)\n",
      "      (2): ReLU()\n",
      "    )\n",
      "    (conv4): Conv1d(64, 1, kernel_size=(3,), stride=(1,), padding=(1,))\n",
      "  )\n",
      "  (melgan): MelGAN(\n",
      "    (conv1): Sequential(\n",
      "      (0): Conv1d(1, 64, kernel_size=(3,), stride=(1,), padding=(1,))\n",
      "      (1): BatchNorm1d(64, eps=1e-05, momentum=0.1, affine=True, track_running_stats=True)\n",
      "      (2): ReLU()\n",
      "    )\n",
      "    (conv2): Sequential(\n",
      "      (0): Conv1d(64, 128, kernel_size=(3,), stride=(1,), padding=(1,))\n",
      "      (1): BatchNorm1d(128, eps=1e-05, momentum=0.1, affine=True, track_running_stats=True)\n",
      "      (2): ReLU()\n",
      "    )\n",
      "    (upsample): Upsample(scale_factor=2.0, mode='nearest')\n",
      "    (conv3): Sequential(\n",
      "      (0): Conv1d(128, 64, kernel_size=(3,), stride=(1,), padding=(1,))\n",
      "      (1): BatchNorm1d(64, eps=1e-05, momentum=0.1, affine=True, track_running_stats=True)\n",
      "      (2): ReLU()\n",
      "    )\n",
      "    (conv4): Conv1d(64, 1, kernel_size=(3,), stride=(1,), padding=(1,))\n",
      "  )\n",
      "  (hifigan): HiFiGAN(\n",
      "    (conv1): Sequential(\n",
      "      (0): Conv1d(1, 64, kernel_size=(3,), stride=(1,), padding=(1,))\n",
      "      (1): BatchNorm1d(64, eps=1e-05, momentum=0.1, affine=True, track_running_stats=True)\n",
      "      (2): ReLU()\n",
      "    )\n",
      "    (conv2): Sequential(\n",
      "      (0): Conv1d(64, 128, kernel_size=(3,), stride=(1,), padding=(1,))\n",
      "      (1): BatchNorm1d(128, eps=1e-05, momentum=0.1, affine=True, track_running_stats=True)\n",
      "      (2): ReLU()\n",
      "    )\n",
      "    (upsample): Upsample(scale_factor=2.0, mode='nearest')\n",
      "    (conv3): Sequential(\n",
      "      (0): Conv1d(128, 64, kernel_size=(3,), stride=(1,), padding=(1,))\n",
      "      (1): BatchNorm1d(64, eps=1e-05, momentum=0.1, affine=True, track_running_stats=True)\n",
      "      (2): ReLU()\n",
      "    )\n",
      "    (conv4): Conv1d(64, 1, kernel_size=(3,), stride=(1,), padding=(1,))\n",
      "  )\n",
      ")\n",
      "==================================================\n",
      "Total parameters: 150915\n",
      "==================================================\n"
     ]
    }
   ],
   "source": [
    "input_size = (1, 1, 100)  # Example input size\n",
    "summary(ensemble_model, input_size)"
   ]
  },
  {
   "cell_type": "code",
   "execution_count": null,
   "id": "cf7f8764",
   "metadata": {},
   "outputs": [],
   "source": []
  }
 ],
 "metadata": {
  "kernelspec": {
   "display_name": "Python 3 (ipykernel)",
   "language": "python",
   "name": "python3"
  },
  "language_info": {
   "codemirror_mode": {
    "name": "ipython",
    "version": 3
   },
   "file_extension": ".py",
   "mimetype": "text/x-python",
   "name": "python",
   "nbconvert_exporter": "python",
   "pygments_lexer": "ipython3",
   "version": "3.9.13"
  }
 },
 "nbformat": 4,
 "nbformat_minor": 5
}
